{
 "cells": [
  {
   "cell_type": "code",
   "execution_count": null,
   "id": "7fc2a8a0",
   "metadata": {},
   "outputs": [],
   "source": [
    "import pandas as pd\n",
    "import plotly.express as px\n",
    "\n",
    "df = pd.read_csv('stocks.csv')\n",
    "\n",
    "def plot_all_stocks(df):\n",
    "    \"\"\"\n",
    "    Plots stock data for all tickers in the data_dict.\n",
    "\n",
    "    Parameters:\n",
    "        data_dict (dict): Dictionary of DataFrames keyed by ticker symbol\n",
    "\n",
    "    Returns:\n",
    "        None: Displays the plot\n",
    "    \"\"\"\n",
    "\n",
    "    fig = px.line(df, x=\"date\", y=\"close\", color=\"ticker\",\n",
    "                  title=\"Stock Prices Over Time\",\n",
    "                  labels={\"date\": \"Date\", \"close\": \"Closing Price\", \"ticker\": \"Ticker Symbol\"})\n",
    "    fig.update_layout(xaxis_title=\"Date\", yaxis_title=\"Closing Price\")\n",
    "    fig.show()\n"
   ]
  },
  {
   "cell_type": "code",
   "execution_count": null,
   "id": "59593c27",
   "metadata": {},
   "outputs": [],
   "source": [
    "plot_all_stocks(df)"
   ]
  }
 ],
 "metadata": {
  "kernelspec": {
   "display_name": ".venv",
   "language": "python",
   "name": "python3"
  },
  "language_info": {
   "name": "python",
   "version": "3.9.6"
  }
 },
 "nbformat": 4,
 "nbformat_minor": 5
}
